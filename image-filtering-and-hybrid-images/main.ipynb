{
 "cells": [
  {
   "attachments": {},
   "cell_type": "markdown",
   "metadata": {},
   "source": [
    "# Project 1: Image Filtering and Hybrid Images"
   ]
  },
  {
   "cell_type": "code",
   "execution_count": null,
   "metadata": {
    "ExecuteTime": {
     "end_time": "2023-05-25T07:30:44.993982500Z",
     "start_time": "2023-05-25T07:30:43.630559100Z"
    }
   },
   "outputs": [],
   "source": [
    "import numpy as np\n",
    "from package import *"
   ]
  },
  {
   "attachments": {},
   "cell_type": "markdown",
   "metadata": {},
   "source": [
    "Load two images."
   ]
  },
  {
   "cell_type": "code",
   "execution_count": null,
   "metadata": {
    "ExecuteTime": {
     "end_time": "2023-05-25T07:30:45.064215400Z",
     "start_time": "2023-05-25T07:30:44.991736600Z"
    }
   },
   "outputs": [],
   "source": [
    "image1 = load_image(\"data/dog.bmp\")\n",
    "image2 = load_image(\"data/cat.bmp\")\n",
    "show_images(image1, image2)"
   ]
  },
  {
   "attachments": {},
   "cell_type": "markdown",
   "metadata": {},
   "source": [
    "Identical filtering."
   ]
  },
  {
   "cell_type": "code",
   "execution_count": null,
   "metadata": {
    "ExecuteTime": {
     "end_time": "2023-05-25T07:30:46.643197700Z",
     "start_time": "2023-05-25T07:30:45.036665300Z"
    }
   },
   "outputs": [],
   "source": [
    "identical_kernel = np.asarray([[0, 0, 0], [0, 1, 0], [0, 0, 0]])\n",
    "identical_image = filter_image(image1, identical_kernel)\n",
    "show_images(image1, identical_image)"
   ]
  },
  {
   "attachments": {},
   "cell_type": "markdown",
   "metadata": {},
   "source": [
    "Mean filtering."
   ]
  },
  {
   "cell_type": "code",
   "execution_count": null,
   "metadata": {
    "ExecuteTime": {
     "end_time": "2023-05-25T07:30:48.283004600Z",
     "start_time": "2023-05-25T07:30:46.641699800Z"
    }
   },
   "outputs": [],
   "source": [
    "mean_kernel = np.full((3, 3), 1 / 9)\n",
    "mean_image = filter_image(image1, mean_kernel)\n",
    "show_images(image1, mean_image)"
   ]
  },
  {
   "attachments": {},
   "cell_type": "markdown",
   "metadata": {},
   "source": [
    "High-pass filtering, which is simply the original image minus the low-pass filtered image."
   ]
  },
  {
   "cell_type": "code",
   "execution_count": null,
   "metadata": {},
   "outputs": [],
   "source": [
    "high_pass_image = image1 - mean_image\n",
    "high_pass_image = np.clip(high_pass_image + 0.5, 0, 1)\n",
    "show_images(image1, high_pass_image)"
   ]
  },
  {
   "attachments": {},
   "cell_type": "markdown",
   "metadata": {},
   "source": [
    "Gaussian filtering."
   ]
  },
  {
   "cell_type": "code",
   "execution_count": null,
   "metadata": {
    "ExecuteTime": {
     "end_time": "2023-05-25T07:30:51.153044900Z",
     "start_time": "2023-05-25T07:30:48.280008300Z"
    }
   },
   "outputs": [],
   "source": [
    "gaussian_kernel = create_gaussian_kernel(7, 14)\n",
    "gaussian_image = filter_image(image1, gaussian_kernel)\n",
    "show_images(image1, gaussian_image)"
   ]
  },
  {
   "attachments": {},
   "cell_type": "markdown",
   "metadata": {},
   "source": [
    "Sobel filtering."
   ]
  },
  {
   "cell_type": "code",
   "execution_count": null,
   "metadata": {
    "ExecuteTime": {
     "end_time": "2023-05-25T07:30:52.706195900Z",
     "start_time": "2023-05-25T07:30:51.152044700Z"
    }
   },
   "outputs": [],
   "source": [
    "sobel_kernel = np.asarray([[-1, 0, 1], [-2, 0, 2], [-1, 0, 1]])\n",
    "sobel_image = filter_image(image1, sobel_kernel)\n",
    "sobel_image = np.clip(sobel_image + 0.5, 0, 1)\n",
    "show_images(image1, sobel_image)"
   ]
  },
  {
   "attachments": {},
   "cell_type": "markdown",
   "metadata": {},
   "source": [
    "Laplacian filtering."
   ]
  },
  {
   "cell_type": "code",
   "execution_count": null,
   "metadata": {
    "ExecuteTime": {
     "end_time": "2023-05-25T07:30:54.528747500Z",
     "start_time": "2023-05-25T07:30:52.706195900Z"
    }
   },
   "outputs": [],
   "source": [
    "laplacian_kernel = np.asarray([[0, 1, 0], [1, -4, 1], [0, 1, 0]])\n",
    "laplacian_image = filter_image(image1, laplacian_kernel)\n",
    "laplacian_image = np.clip(laplacian_image + 0.5, 0, 1)\n",
    "show_images(image1, laplacian_image)"
   ]
  },
  {
   "attachments": {},
   "cell_type": "markdown",
   "metadata": {},
   "source": [
    "Mix the low frequency components of image 1 with the high frequency components of image 2 to create a hybrid image."
   ]
  },
  {
   "cell_type": "code",
   "execution_count": null,
   "metadata": {
    "ExecuteTime": {
     "end_time": "2023-05-25T07:31:03.225475300Z",
     "start_time": "2023-05-25T07:30:54.531266900Z"
    }
   },
   "outputs": [],
   "source": [
    "low_frequencies, high_frequencies, hybrid_image = hybridize_image(image1, image2)\n",
    "show_images(low_frequencies, high_frequencies, hybrid_image)"
   ]
  }
 ],
 "metadata": {
  "kernelspec": {
   "display_name": "Python 3 (ipykernel)",
   "language": "python",
   "name": "python3"
  },
  "language_info": {
   "codemirror_mode": {
    "name": "ipython",
    "version": 3
   },
   "file_extension": ".py",
   "mimetype": "text/x-python",
   "name": "python",
   "nbconvert_exporter": "python",
   "pygments_lexer": "ipython3",
   "version": "3.11.3"
  }
 },
 "nbformat": 4,
 "nbformat_minor": 2
}
