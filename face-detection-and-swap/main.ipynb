{
 "cells": [
  {
   "attachments": {},
   "cell_type": "markdown",
   "metadata": {},
   "source": [
    "# Project 3: Face Detection and Swap"
   ]
  },
  {
   "cell_type": "code",
   "execution_count": null,
   "metadata": {
    "ExecuteTime": {
     "end_time": "2023-05-25T07:02:58.091743300Z",
     "start_time": "2023-05-25T07:02:57.549014600Z"
    }
   },
   "outputs": [],
   "source": [
    "from dlib import shape_predictor, get_frontal_face_detector\n",
    "from package import *"
   ]
  },
  {
   "attachments": {},
   "cell_type": "markdown",
   "metadata": {},
   "source": [
    "Load images, predictor and face detector."
   ]
  },
  {
   "cell_type": "code",
   "execution_count": null,
   "metadata": {
    "ExecuteTime": {
     "end_time": "2023-05-25T07:03:00.449222500Z",
     "start_time": "2023-05-25T07:02:59.225027200Z"
    },
    "scrolled": true
   },
   "outputs": [],
   "source": [
    "image1 = load_image(\"data/person1.jpg\")\n",
    "image2 = load_image(\"data/person2.jpg\")\n",
    "predictor = shape_predictor(\"data/predictor.dat\")\n",
    "detector = get_frontal_face_detector()"
   ]
  },
  {
   "attachments": {},
   "cell_type": "markdown",
   "metadata": {},
   "source": [
    "Detect the landmarks."
   ]
  },
  {
   "cell_type": "code",
   "execution_count": null,
   "metadata": {},
   "outputs": [],
   "source": [
    "landmarks1 = get_landmarks(image1, detector, predictor)\n",
    "landmarks2 = get_landmarks(image2, detector, predictor)\n",
    "print(f\"Detected {len(landmarks1)} and {len(landmarks2)} landmarks respectively.\")"
   ]
  },
  {
   "attachments": {},
   "cell_type": "markdown",
   "metadata": {},
   "source": [
    "Get the mask, and apply it to the image to get the face area."
   ]
  },
  {
   "cell_type": "code",
   "execution_count": null,
   "metadata": {},
   "outputs": [],
   "source": [
    "hull1, mask1 = get_mask(image1, landmarks1)\n",
    "hull2, mask2 = get_mask(image2, landmarks2)"
   ]
  },
  {
   "attachments": {},
   "cell_type": "markdown",
   "metadata": {},
   "source": [
    "Apply the mask to the image to get the face area."
   ]
  },
  {
   "cell_type": "code",
   "execution_count": null,
   "metadata": {},
   "outputs": [],
   "source": [
    "face1 = mask_image(image1, mask1)\n",
    "face2 = mask_image(image2, mask2)"
   ]
  },
  {
   "attachments": {},
   "cell_type": "markdown",
   "metadata": {},
   "source": [
    "Get the face mesh triangulation."
   ]
  },
  {
   "cell_type": "code",
   "execution_count": null,
   "metadata": {
    "ExecuteTime": {
     "end_time": "2023-05-25T07:03:00.510307700Z",
     "start_time": "2023-05-25T07:03:00.473254300Z"
    }
   },
   "outputs": [],
   "source": [
    "triangles1 = get_triangles(landmarks1, hull1)\n",
    "triangles2 = get_triangles(landmarks2, hull2)"
   ]
  },
  {
   "attachments": {},
   "cell_type": "markdown",
   "metadata": {},
   "source": [
    "Show the face and the triangulation."
   ]
  },
  {
   "cell_type": "code",
   "execution_count": null,
   "metadata": {
    "ExecuteTime": {
     "end_time": "2023-05-25T07:03:05.407837300Z",
     "start_time": "2023-05-25T07:03:03.734322400Z"
    }
   },
   "outputs": [],
   "source": [
    "show_images(image1, face1, analyze_image(image1, landmarks1, triangles1))\n",
    "show_images(image2, face2, analyze_image(image2, landmarks2, triangles2))"
   ]
  },
  {
   "attachments": {},
   "cell_type": "markdown",
   "metadata": {},
   "source": [
    "Compute the affine transformation matrix."
   ]
  },
  {
   "cell_type": "code",
   "execution_count": null,
   "metadata": {
    "ExecuteTime": {
     "end_time": "2023-05-25T07:10:09.937405100Z",
     "start_time": "2023-05-25T07:10:09.922365200Z"
    }
   },
   "outputs": [],
   "source": [
    "matrix = get_transformation_matrix(landmarks1, landmarks2)\n",
    "print(matrix)"
   ]
  },
  {
   "attachments": {},
   "cell_type": "markdown",
   "metadata": {},
   "source": [
    "Swap the faces."
   ]
  },
  {
   "cell_type": "code",
   "execution_count": null,
   "metadata": {},
   "outputs": [],
   "source": [
    "warped_face1 = warp_image(face1, matrix)\n",
    "warped_mask1 = warp_image(mask1, matrix)\n",
    "\n",
    "result = mask_image(image2, ~warped_mask1) + warped_face1\n",
    "show_images(image1, image2, result)"
   ]
  },
  {
   "attachments": {},
   "cell_type": "markdown",
   "metadata": {},
   "source": [
    "Swap the faces with `cv2.seamlessClone`."
   ]
  },
  {
   "cell_type": "code",
   "execution_count": null,
   "metadata": {},
   "outputs": [],
   "source": [
    "import cv2\n",
    "\n",
    "x1, x2, x3, x4 = cv2.boundingRect(hull2)\n",
    "center = (int(x1 + x3 / 2), int(x2 + x4 / 2))\n",
    "\n",
    "seamless_clone = cv2.seamlessClone(\n",
    "    warped_face1,\n",
    "    image2,\n",
    "    warped_mask1,\n",
    "    center,\n",
    "    cv2.NORMAL_CLONE,\n",
    ")\n",
    "\n",
    "show_images(image1, image2, seamless_clone)"
   ]
  }
 ],
 "metadata": {
  "kernelspec": {
   "display_name": "Python 3 (ipykernel)",
   "language": "python",
   "name": "python3"
  },
  "language_info": {
   "codemirror_mode": {
    "name": "ipython",
    "version": 3
   },
   "file_extension": ".py",
   "mimetype": "text/x-python",
   "name": "python",
   "nbconvert_exporter": "python",
   "pygments_lexer": "ipython3",
   "version": "3.11.3"
  }
 },
 "nbformat": 4,
 "nbformat_minor": 2
}
