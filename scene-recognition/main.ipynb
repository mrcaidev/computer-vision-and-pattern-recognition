{
 "cells": [
  {
   "attachments": {},
   "cell_type": "markdown",
   "metadata": {},
   "source": [
    "# Project 4: Scene recognition"
   ]
  },
  {
   "cell_type": "code",
   "execution_count": null,
   "metadata": {},
   "outputs": [],
   "source": [
    "from package import *"
   ]
  },
  {
   "cell_type": "code",
   "execution_count": null,
   "metadata": {},
   "outputs": [],
   "source": [
    "FEATURE_TYPE = FeatureType.BAG_OF_WORDS\n",
    "CLASSIFIER_TYPE = ClassifierType.SVM\n",
    "\n",
    "category_names = [\n",
    "    \"Kitchen\",\n",
    "    \"Store\",\n",
    "    \"Bedroom\",\n",
    "    \"LivingRoom\",\n",
    "    \"Office\",\n",
    "    \"Industrial\",\n",
    "    \"Suburb\",\n",
    "    \"InsideCity\",\n",
    "    \"TallBuilding\",\n",
    "    \"Street\",\n",
    "    \"Highway\",\n",
    "    \"OpenCountry\",\n",
    "    \"Coast\",\n",
    "    \"Mountain\",\n",
    "    \"Forest\",\n",
    "]\n",
    "\n",
    "category_abbreviations = [\n",
    "    \"Kit\",\n",
    "    \"Sto\",\n",
    "    \"Bed\",\n",
    "    \"Liv\",\n",
    "    \"Off\",\n",
    "    \"Ind\",\n",
    "    \"Sub\",\n",
    "    \"Cty\",\n",
    "    \"Bld\",\n",
    "    \"St\",\n",
    "    \"HW\",\n",
    "    \"OC\",\n",
    "    \"Cst\",\n",
    "    \"Mnt\",\n",
    "    \"For\",\n",
    "]"
   ]
  },
  {
   "attachments": {},
   "cell_type": "markdown",
   "metadata": {},
   "source": [
    "Load train set and test set."
   ]
  },
  {
   "cell_type": "code",
   "execution_count": null,
   "metadata": {},
   "outputs": [],
   "source": [
    "train_images, train_paths, train_labels = load_dataset(\"data/train\", category_names)\n",
    "test_images, test_paths, test_labels = load_dataset(\"data/test\", category_names)"
   ]
  },
  {
   "attachments": {},
   "cell_type": "markdown",
   "metadata": {},
   "source": [
    "Describe the feature of each image."
   ]
  },
  {
   "cell_type": "code",
   "execution_count": null,
   "metadata": {
    "tags": []
   },
   "outputs": [],
   "source": [
    "if FEATURE_TYPE == FeatureType.TINY_IMAGE:\n",
    "    train_features = [get_tiny_image(image) for image in train_images]\n",
    "    test_features = [get_tiny_image(image) for image in test_images]\n",
    "\n",
    "elif FEATURE_TYPE == FeatureType.BAG_OF_WORDS:\n",
    "    vocabulary = build_vocabulary(train_images)\n",
    "    train_features = [get_bag_of_words(image, vocabulary) for image in train_images]\n",
    "    test_features = [get_bag_of_words(image, vocabulary) for image in test_images]\n",
    "\n",
    "else:\n",
    "    raise ValueError(\"Unknown feature type.\")"
   ]
  },
  {
   "attachments": {},
   "cell_type": "markdown",
   "metadata": {},
   "source": [
    "Classify the test set."
   ]
  },
  {
   "cell_type": "code",
   "execution_count": null,
   "metadata": {},
   "outputs": [],
   "source": [
    "if CLASSIFIER_TYPE == ClassifierType.KNN:\n",
    "    predictions = knn(train_features, train_labels, test_features)\n",
    "\n",
    "elif CLASSIFIER_TYPE == ClassifierType.SVM:\n",
    "    predictions = svm(train_features, train_labels, test_features)\n",
    "\n",
    "else:\n",
    "    raise ValueError(\"Unknown classifier type.\")"
   ]
  },
  {
   "attachments": {},
   "cell_type": "markdown",
   "metadata": {},
   "source": [
    "Evaluate the result."
   ]
  },
  {
   "cell_type": "code",
   "execution_count": null,
   "metadata": {},
   "outputs": [],
   "source": [
    "create_results_webpage(\n",
    "    train_paths,\n",
    "    test_paths,\n",
    "    train_labels,\n",
    "    test_labels,\n",
    "    category_names,\n",
    "    category_abbreviations,\n",
    "    predictions,\n",
    ")"
   ]
  }
 ],
 "metadata": {
  "kernelspec": {
   "display_name": "Python 3 (ipykernel)",
   "language": "python",
   "name": "python3"
  },
  "language_info": {
   "codemirror_mode": {
    "name": "ipython",
    "version": 3
   },
   "file_extension": ".py",
   "mimetype": "text/x-python",
   "name": "python",
   "nbconvert_exporter": "python",
   "pygments_lexer": "ipython3",
   "version": "3.11.3"
  }
 },
 "nbformat": 4,
 "nbformat_minor": 2
}
